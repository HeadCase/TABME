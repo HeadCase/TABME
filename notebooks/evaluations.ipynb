{
 "cells": [
  {
   "cell_type": "code",
   "execution_count": 1,
   "id": "e9b1480d",
   "metadata": {},
   "outputs": [],
   "source": [
    "import sys\n",
    "sys.path.append(\"..\")\n",
    "\n",
    "import pandas as pd\n",
    "import random\n",
    "import numpy as np\n",
    "import sklearn.metrics\n",
    "import matplotlib.pyplot as plt\n",
    "import seaborn as sns\n",
    "\n",
    "from utils.evaluation import model_evaluation, baseline_models_evaluation\n",
    "from scipy import stats\n",
    "\n",
    "plt.rcParams.update({\n",
    "        \"text.usetex\": True,\n",
    "        \"font.family\": \"serif\",\n",
    "        \"font.serif\": [\"Palatino\"],\n",
    "    })\n",
    "random.seed(1)"
   ]
  },
  {
   "cell_type": "code",
   "execution_count": 2,
   "id": "a71a367f",
   "metadata": {},
   "outputs": [],
   "source": [
    "full_model_predictions = pd.read_csv(\"../predictions/full_model_predictions_test.csv\")\n",
    "minus_layoutlm_predictions = pd.read_csv(\"../predictions/minus_layoutlm_predictions_test.csv\")\n",
    "minus_resnet_predictions = pd.read_csv(\"../predictions/minus_resnet_predictions_test.csv\")\n",
    "full_model_predictions_tobacco800 = pd.read_csv(\"../predictions/full_model_predictions_tobacco800.csv\")"
   ]
  },
  {
   "cell_type": "markdown",
   "id": "e3ca14e4",
   "metadata": {},
   "source": [
    "# Model performance compared to baselines"
   ]
  },
  {
   "cell_type": "code",
   "execution_count": 3,
   "id": "a218d2b3",
   "metadata": {
    "scrolled": true
   },
   "outputs": [
    {
     "name": "stderr",
     "output_type": "stream",
     "text": [
      "100%|██████████| 5000/5000 [09:35<00:00,  8.69it/s]\n"
     ]
    }
   ],
   "source": [
    "model_performance = model_evaluation(full_model_predictions)"
   ]
  },
  {
   "cell_type": "code",
   "execution_count": 4,
   "id": "1451dd14",
   "metadata": {},
   "outputs": [
    {
     "data": {
      "text/html": [
       "<div>\n",
       "<style scoped>\n",
       "    .dataframe tbody tr th:only-of-type {\n",
       "        vertical-align: middle;\n",
       "    }\n",
       "\n",
       "    .dataframe tbody tr th {\n",
       "        vertical-align: top;\n",
       "    }\n",
       "\n",
       "    .dataframe thead th {\n",
       "        text-align: right;\n",
       "    }\n",
       "</style>\n",
       "<table border=\"1\" class=\"dataframe\">\n",
       "  <thead>\n",
       "    <tr style=\"text-align: right;\">\n",
       "      <th></th>\n",
       "      <th>model_F1</th>\n",
       "      <th>model_precision</th>\n",
       "      <th>model_recall</th>\n",
       "      <th>model_MNDD</th>\n",
       "    </tr>\n",
       "  </thead>\n",
       "  <tbody>\n",
       "    <tr>\n",
       "      <th>count</th>\n",
       "      <td>5000.000000</td>\n",
       "      <td>5000.000000</td>\n",
       "      <td>5000.000000</td>\n",
       "      <td>5000.000000</td>\n",
       "    </tr>\n",
       "    <tr>\n",
       "      <th>mean</th>\n",
       "      <td>0.952908</td>\n",
       "      <td>0.947022</td>\n",
       "      <td>0.963633</td>\n",
       "      <td>3.439800</td>\n",
       "    </tr>\n",
       "    <tr>\n",
       "      <th>std</th>\n",
       "      <td>0.052974</td>\n",
       "      <td>0.073362</td>\n",
       "      <td>0.062202</td>\n",
       "      <td>7.015997</td>\n",
       "    </tr>\n",
       "    <tr>\n",
       "      <th>min</th>\n",
       "      <td>0.000000</td>\n",
       "      <td>0.000000</td>\n",
       "      <td>0.000000</td>\n",
       "      <td>0.000000</td>\n",
       "    </tr>\n",
       "    <tr>\n",
       "      <th>25%</th>\n",
       "      <td>0.923077</td>\n",
       "      <td>0.909091</td>\n",
       "      <td>0.923077</td>\n",
       "      <td>0.000000</td>\n",
       "    </tr>\n",
       "    <tr>\n",
       "      <th>50%</th>\n",
       "      <td>0.960000</td>\n",
       "      <td>1.000000</td>\n",
       "      <td>1.000000</td>\n",
       "      <td>1.000000</td>\n",
       "    </tr>\n",
       "    <tr>\n",
       "      <th>75%</th>\n",
       "      <td>1.000000</td>\n",
       "      <td>1.000000</td>\n",
       "      <td>1.000000</td>\n",
       "      <td>3.000000</td>\n",
       "    </tr>\n",
       "    <tr>\n",
       "      <th>max</th>\n",
       "      <td>1.000000</td>\n",
       "      <td>1.000000</td>\n",
       "      <td>1.000000</td>\n",
       "      <td>87.000000</td>\n",
       "    </tr>\n",
       "  </tbody>\n",
       "</table>\n",
       "</div>"
      ],
      "text/plain": [
       "          model_F1  model_precision  model_recall   model_MNDD\n",
       "count  5000.000000      5000.000000   5000.000000  5000.000000\n",
       "mean      0.952908         0.947022      0.963633     3.439800\n",
       "std       0.052974         0.073362      0.062202     7.015997\n",
       "min       0.000000         0.000000      0.000000     0.000000\n",
       "25%       0.923077         0.909091      0.923077     0.000000\n",
       "50%       0.960000         1.000000      1.000000     1.000000\n",
       "75%       1.000000         1.000000      1.000000     3.000000\n",
       "max       1.000000         1.000000      1.000000    87.000000"
      ]
     },
     "execution_count": 4,
     "metadata": {},
     "output_type": "execute_result"
    }
   ],
   "source": [
    "model_performance.to_csv(\"full_model_performance.csv\")\n",
    "model_performance.describe()"
   ]
  },
  {
   "cell_type": "code",
   "execution_count": 5,
   "id": "3f86ccb4",
   "metadata": {},
   "outputs": [
    {
     "name": "stderr",
     "output_type": "stream",
     "text": [
      "100%|██████████| 5000/5000 [00:30<00:00, 163.09it/s]\n"
     ]
    }
   ],
   "source": [
    "baseline_performance = baseline_models_evaluation(full_model_predictions)"
   ]
  },
  {
   "cell_type": "code",
   "execution_count": 6,
   "id": "e85044a3",
   "metadata": {},
   "outputs": [
    {
     "data": {
      "text/html": [
       "<div>\n",
       "<style scoped>\n",
       "    .dataframe tbody tr th:only-of-type {\n",
       "        vertical-align: middle;\n",
       "    }\n",
       "\n",
       "    .dataframe tbody tr th {\n",
       "        vertical-align: top;\n",
       "    }\n",
       "\n",
       "    .dataframe thead th {\n",
       "        text-align: right;\n",
       "    }\n",
       "</style>\n",
       "<table border=\"1\" class=\"dataframe\">\n",
       "  <thead>\n",
       "    <tr style=\"text-align: right;\">\n",
       "      <th></th>\n",
       "      <th>onlyfirst_F1</th>\n",
       "      <th>onlyfirst_precision</th>\n",
       "      <th>onlyfirst_recall</th>\n",
       "      <th>random_F1</th>\n",
       "      <th>random_precision</th>\n",
       "      <th>random_recall</th>\n",
       "    </tr>\n",
       "  </thead>\n",
       "  <tbody>\n",
       "    <tr>\n",
       "      <th>count</th>\n",
       "      <td>5000.000000</td>\n",
       "      <td>5000.0</td>\n",
       "      <td>5000.000000</td>\n",
       "      <td>5000.000000</td>\n",
       "      <td>5000.000000</td>\n",
       "      <td>5000.00000</td>\n",
       "    </tr>\n",
       "    <tr>\n",
       "      <th>mean</th>\n",
       "      <td>0.182263</td>\n",
       "      <td>1.0</td>\n",
       "      <td>0.101666</td>\n",
       "      <td>0.432472</td>\n",
       "      <td>0.415233</td>\n",
       "      <td>0.49839</td>\n",
       "    </tr>\n",
       "    <tr>\n",
       "      <th>std</th>\n",
       "      <td>0.061772</td>\n",
       "      <td>0.0</td>\n",
       "      <td>0.041565</td>\n",
       "      <td>0.147512</td>\n",
       "      <td>0.193944</td>\n",
       "      <td>0.16049</td>\n",
       "    </tr>\n",
       "    <tr>\n",
       "      <th>min</th>\n",
       "      <td>0.074074</td>\n",
       "      <td>1.0</td>\n",
       "      <td>0.038462</td>\n",
       "      <td>0.000000</td>\n",
       "      <td>0.000000</td>\n",
       "      <td>0.00000</td>\n",
       "    </tr>\n",
       "    <tr>\n",
       "      <th>25%</th>\n",
       "      <td>0.142857</td>\n",
       "      <td>1.0</td>\n",
       "      <td>0.076923</td>\n",
       "      <td>0.333333</td>\n",
       "      <td>0.272727</td>\n",
       "      <td>0.40000</td>\n",
       "    </tr>\n",
       "    <tr>\n",
       "      <th>50%</th>\n",
       "      <td>0.166667</td>\n",
       "      <td>1.0</td>\n",
       "      <td>0.090909</td>\n",
       "      <td>0.421053</td>\n",
       "      <td>0.379310</td>\n",
       "      <td>0.50000</td>\n",
       "    </tr>\n",
       "    <tr>\n",
       "      <th>75%</th>\n",
       "      <td>0.200000</td>\n",
       "      <td>1.0</td>\n",
       "      <td>0.111111</td>\n",
       "      <td>0.529412</td>\n",
       "      <td>0.500000</td>\n",
       "      <td>0.60000</td>\n",
       "    </tr>\n",
       "    <tr>\n",
       "      <th>max</th>\n",
       "      <td>1.000000</td>\n",
       "      <td>1.0</td>\n",
       "      <td>1.000000</td>\n",
       "      <td>1.000000</td>\n",
       "      <td>1.000000</td>\n",
       "      <td>1.00000</td>\n",
       "    </tr>\n",
       "  </tbody>\n",
       "</table>\n",
       "</div>"
      ],
      "text/plain": [
       "       onlyfirst_F1  onlyfirst_precision  onlyfirst_recall    random_F1  \\\n",
       "count   5000.000000               5000.0       5000.000000  5000.000000   \n",
       "mean       0.182263                  1.0          0.101666     0.432472   \n",
       "std        0.061772                  0.0          0.041565     0.147512   \n",
       "min        0.074074                  1.0          0.038462     0.000000   \n",
       "25%        0.142857                  1.0          0.076923     0.333333   \n",
       "50%        0.166667                  1.0          0.090909     0.421053   \n",
       "75%        0.200000                  1.0          0.111111     0.529412   \n",
       "max        1.000000                  1.0          1.000000     1.000000   \n",
       "\n",
       "       random_precision  random_recall  \n",
       "count       5000.000000     5000.00000  \n",
       "mean           0.415233        0.49839  \n",
       "std            0.193944        0.16049  \n",
       "min            0.000000        0.00000  \n",
       "25%            0.272727        0.40000  \n",
       "50%            0.379310        0.50000  \n",
       "75%            0.500000        0.60000  \n",
       "max            1.000000        1.00000  "
      ]
     },
     "execution_count": 6,
     "metadata": {},
     "output_type": "execute_result"
    }
   ],
   "source": [
    "baseline_performance.to_csv(\"baseline_model_performance.csv\")\n",
    "baseline_performance.describe()"
   ]
  },
  {
   "cell_type": "markdown",
   "id": "66caa012",
   "metadata": {},
   "source": [
    "# Model performance on the Tobacco800 dataset"
   ]
  },
  {
   "cell_type": "code",
   "execution_count": 7,
   "id": "cc767cc9",
   "metadata": {},
   "outputs": [
    {
     "name": "stdout",
     "output_type": "stream",
     "text": [
      "Accuracy ALL: 0.9769230769230769 (N=260)\n",
      "Accuracy one page: 0.9809523809523809 (N=105)\n",
      "Accuracy multipage: 0.9741935483870968 (N=155)\n"
     ]
    }
   ],
   "source": [
    "# accuracy\n",
    "import sklearn\n",
    "acc = sklearn.metrics.accuracy_score(full_model_predictions_tobacco800['label'], full_model_predictions_tobacco800['prediction']) \n",
    "one_page = full_model_predictions_tobacco800['stem'].apply(lambda i: len(i.split('-'))==1)\n",
    "not_one_page = full_model_predictions_tobacco800['stem'].apply(lambda i: len(i.split('-'))!=1)\n",
    "\n",
    "acc_one_page = sklearn.metrics.accuracy_score(full_model_predictions_tobacco800[one_page]['label'], full_model_predictions_tobacco800[one_page]['prediction']) \n",
    "acc_not_one_page = sklearn.metrics.accuracy_score(full_model_predictions_tobacco800[not_one_page]['label'], full_model_predictions_tobacco800[not_one_page]['prediction']) \n",
    "\n",
    "\n",
    "print(f\"Accuracy ALL: {acc} (N={len(full_model_predictions_tobacco800)})\")\n",
    "print(f\"Accuracy one page: {acc_one_page} (N={len(full_model_predictions_tobacco800[one_page])})\")\n",
    "print(f\"Accuracy multipage: {acc_not_one_page} (N={len(full_model_predictions_tobacco800[not_one_page])})\")"
   ]
  },
  {
   "cell_type": "markdown",
   "id": "e1c8b880",
   "metadata": {},
   "source": [
    "# Ablation studies"
   ]
  },
  {
   "cell_type": "code",
   "execution_count": 8,
   "id": "d3782e98",
   "metadata": {},
   "outputs": [
    {
     "name": "stderr",
     "output_type": "stream",
     "text": [
      "100%|██████████| 5000/5000 [04:05<00:00, 20.39it/s]\n"
     ]
    }
   ],
   "source": [
    "minus_resnet_performance = model_evaluation(minus_resnet_predictions)\n",
    "minus_resnet_performance.to_csv(\"minus_resnet_performance.csv\")"
   ]
  },
  {
   "cell_type": "code",
   "execution_count": 9,
   "id": "b3fb86af",
   "metadata": {},
   "outputs": [
    {
     "name": "stderr",
     "output_type": "stream",
     "text": [
      "100%|██████████| 5000/5000 [10:15<00:00,  8.13it/s]\n"
     ]
    }
   ],
   "source": [
    "minus_layoutlm_performance = model_evaluation(minus_layoutlm_predictions)\n",
    "minus_layoutlm_performance.to_csv(\"minus_layoutlm_performance.csv\")"
   ]
  },
  {
   "cell_type": "code",
   "execution_count": 10,
   "id": "0f42dfb0",
   "metadata": {},
   "outputs": [
    {
     "data": {
      "text/html": [
       "<div>\n",
       "<style scoped>\n",
       "    .dataframe tbody tr th:only-of-type {\n",
       "        vertical-align: middle;\n",
       "    }\n",
       "\n",
       "    .dataframe tbody tr th {\n",
       "        vertical-align: top;\n",
       "    }\n",
       "\n",
       "    .dataframe thead th {\n",
       "        text-align: right;\n",
       "    }\n",
       "</style>\n",
       "<table border=\"1\" class=\"dataframe\">\n",
       "  <thead>\n",
       "    <tr style=\"text-align: right;\">\n",
       "      <th></th>\n",
       "      <th>model_F1</th>\n",
       "      <th>model_precision</th>\n",
       "      <th>model_recall</th>\n",
       "      <th>model_MNDD</th>\n",
       "    </tr>\n",
       "  </thead>\n",
       "  <tbody>\n",
       "    <tr>\n",
       "      <th>count</th>\n",
       "      <td>5000.000000</td>\n",
       "      <td>5000.000000</td>\n",
       "      <td>5000.000000</td>\n",
       "      <td>5000.000000</td>\n",
       "    </tr>\n",
       "    <tr>\n",
       "      <th>mean</th>\n",
       "      <td>0.558500</td>\n",
       "      <td>0.940323</td>\n",
       "      <td>0.421237</td>\n",
       "      <td>15.927800</td>\n",
       "    </tr>\n",
       "    <tr>\n",
       "      <th>std</th>\n",
       "      <td>0.203727</td>\n",
       "      <td>0.181339</td>\n",
       "      <td>0.197098</td>\n",
       "      <td>10.676825</td>\n",
       "    </tr>\n",
       "    <tr>\n",
       "      <th>min</th>\n",
       "      <td>0.000000</td>\n",
       "      <td>0.000000</td>\n",
       "      <td>0.000000</td>\n",
       "      <td>0.000000</td>\n",
       "    </tr>\n",
       "    <tr>\n",
       "      <th>25%</th>\n",
       "      <td>0.434783</td>\n",
       "      <td>1.000000</td>\n",
       "      <td>0.285714</td>\n",
       "      <td>8.000000</td>\n",
       "    </tr>\n",
       "    <tr>\n",
       "      <th>50%</th>\n",
       "      <td>0.588235</td>\n",
       "      <td>1.000000</td>\n",
       "      <td>0.416667</td>\n",
       "      <td>14.000000</td>\n",
       "    </tr>\n",
       "    <tr>\n",
       "      <th>75%</th>\n",
       "      <td>0.705882</td>\n",
       "      <td>1.000000</td>\n",
       "      <td>0.555556</td>\n",
       "      <td>22.000000</td>\n",
       "    </tr>\n",
       "    <tr>\n",
       "      <th>max</th>\n",
       "      <td>1.000000</td>\n",
       "      <td>1.000000</td>\n",
       "      <td>1.000000</td>\n",
       "      <td>96.000000</td>\n",
       "    </tr>\n",
       "  </tbody>\n",
       "</table>\n",
       "</div>"
      ],
      "text/plain": [
       "          model_F1  model_precision  model_recall   model_MNDD\n",
       "count  5000.000000      5000.000000   5000.000000  5000.000000\n",
       "mean      0.558500         0.940323      0.421237    15.927800\n",
       "std       0.203727         0.181339      0.197098    10.676825\n",
       "min       0.000000         0.000000      0.000000     0.000000\n",
       "25%       0.434783         1.000000      0.285714     8.000000\n",
       "50%       0.588235         1.000000      0.416667    14.000000\n",
       "75%       0.705882         1.000000      0.555556    22.000000\n",
       "max       1.000000         1.000000      1.000000    96.000000"
      ]
     },
     "execution_count": 10,
     "metadata": {},
     "output_type": "execute_result"
    }
   ],
   "source": [
    "minus_resnet_performance.describe()"
   ]
  },
  {
   "cell_type": "code",
   "execution_count": 11,
   "id": "ebeb1166",
   "metadata": {},
   "outputs": [
    {
     "data": {
      "text/html": [
       "<div>\n",
       "<style scoped>\n",
       "    .dataframe tbody tr th:only-of-type {\n",
       "        vertical-align: middle;\n",
       "    }\n",
       "\n",
       "    .dataframe tbody tr th {\n",
       "        vertical-align: top;\n",
       "    }\n",
       "\n",
       "    .dataframe thead th {\n",
       "        text-align: right;\n",
       "    }\n",
       "</style>\n",
       "<table border=\"1\" class=\"dataframe\">\n",
       "  <thead>\n",
       "    <tr style=\"text-align: right;\">\n",
       "      <th></th>\n",
       "      <th>model_F1</th>\n",
       "      <th>model_precision</th>\n",
       "      <th>model_recall</th>\n",
       "      <th>model_MNDD</th>\n",
       "    </tr>\n",
       "  </thead>\n",
       "  <tbody>\n",
       "    <tr>\n",
       "      <th>count</th>\n",
       "      <td>5000.000000</td>\n",
       "      <td>5000.000000</td>\n",
       "      <td>5000.000000</td>\n",
       "      <td>5000.000000</td>\n",
       "    </tr>\n",
       "    <tr>\n",
       "      <th>mean</th>\n",
       "      <td>0.942486</td>\n",
       "      <td>0.943509</td>\n",
       "      <td>0.947764</td>\n",
       "      <td>3.910000</td>\n",
       "    </tr>\n",
       "    <tr>\n",
       "      <th>std</th>\n",
       "      <td>0.060255</td>\n",
       "      <td>0.078845</td>\n",
       "      <td>0.075175</td>\n",
       "      <td>7.257798</td>\n",
       "    </tr>\n",
       "    <tr>\n",
       "      <th>min</th>\n",
       "      <td>0.000000</td>\n",
       "      <td>0.000000</td>\n",
       "      <td>0.000000</td>\n",
       "      <td>0.000000</td>\n",
       "    </tr>\n",
       "    <tr>\n",
       "      <th>25%</th>\n",
       "      <td>0.909091</td>\n",
       "      <td>0.900000</td>\n",
       "      <td>0.909091</td>\n",
       "      <td>0.000000</td>\n",
       "    </tr>\n",
       "    <tr>\n",
       "      <th>50%</th>\n",
       "      <td>0.952381</td>\n",
       "      <td>1.000000</td>\n",
       "      <td>1.000000</td>\n",
       "      <td>1.000000</td>\n",
       "    </tr>\n",
       "    <tr>\n",
       "      <th>75%</th>\n",
       "      <td>1.000000</td>\n",
       "      <td>1.000000</td>\n",
       "      <td>1.000000</td>\n",
       "      <td>4.000000</td>\n",
       "    </tr>\n",
       "    <tr>\n",
       "      <th>max</th>\n",
       "      <td>1.000000</td>\n",
       "      <td>1.000000</td>\n",
       "      <td>1.000000</td>\n",
       "      <td>87.000000</td>\n",
       "    </tr>\n",
       "  </tbody>\n",
       "</table>\n",
       "</div>"
      ],
      "text/plain": [
       "          model_F1  model_precision  model_recall   model_MNDD\n",
       "count  5000.000000      5000.000000   5000.000000  5000.000000\n",
       "mean      0.942486         0.943509      0.947764     3.910000\n",
       "std       0.060255         0.078845      0.075175     7.257798\n",
       "min       0.000000         0.000000      0.000000     0.000000\n",
       "25%       0.909091         0.900000      0.909091     0.000000\n",
       "50%       0.952381         1.000000      1.000000     1.000000\n",
       "75%       1.000000         1.000000      1.000000     4.000000\n",
       "max       1.000000         1.000000      1.000000    87.000000"
      ]
     },
     "execution_count": 11,
     "metadata": {},
     "output_type": "execute_result"
    }
   ],
   "source": [
    "minus_layoutlm_performance.describe()"
   ]
  },
  {
   "cell_type": "markdown",
   "id": "4af8512e",
   "metadata": {},
   "source": [
    "# Statistical analysis: boxplots"
   ]
  },
  {
   "cell_type": "code",
   "execution_count": 12,
   "id": "9bb80a05",
   "metadata": {},
   "outputs": [],
   "source": [
    "model_performance = pd.read_csv(\"full_model_performance.csv\")\n",
    "minus_layoutlm_performance = pd.read_csv(\"minus_layoutlm_performance.csv\")\n",
    "minus_resnet_performance = pd.read_csv(\"minus_resnet_performance.csv\")"
   ]
  },
  {
   "cell_type": "code",
   "execution_count": 13,
   "id": "72d6ba90",
   "metadata": {},
   "outputs": [
    {
     "data": {
      "text/plain": [
       "folder_id                                                          6\n",
       "label              [1, 0, 1, 0, 0, 0, 0, 0, 0, 0, 0, 0, 0, 0, 0, ...\n",
       "model_pred         [1.0, 0.0, 1.0, 0.0, 0.0, 0.0, 0.0, 0.0, 0.0, ...\n",
       "model_F1                                                    0.947368\n",
       "model_precision                                                  1.0\n",
       "model_recall                                                     0.9\n",
       "model_MNDD                                                       3.0\n",
       "Name: 5, dtype: object"
      ]
     },
     "execution_count": 13,
     "metadata": {},
     "output_type": "execute_result"
    }
   ],
   "source": [
    "model_performance.loc[5]"
   ]
  },
  {
   "cell_type": "code",
   "execution_count": 14,
   "id": "b4dc5e12",
   "metadata": {},
   "outputs": [
    {
     "data": {
      "text/plain": [
       "label                        [1, 0, 0, 0, 0, 0, 1, 1, 1, 0, 0, 0, 0]\n",
       "model_pred         [1.0, 0.0, 0.0, 0.0, 0.0, 0.0, 1.0, 1.0, 1.0, ...\n",
       "model_F1                                                         1.0\n",
       "model_precision                                                  1.0\n",
       "model_recall                                                     1.0\n",
       "model_MNDD                                                       0.0\n",
       "Name: 5, dtype: object"
      ]
     },
     "execution_count": 14,
     "metadata": {},
     "output_type": "execute_result"
    }
   ],
   "source": [
    "pd.read_csv(\"full_model_performance.csv\",index_col = \"folder_id\").loc[5]"
   ]
  },
  {
   "cell_type": "code",
   "execution_count": 15,
   "id": "740ddff8",
   "metadata": {},
   "outputs": [
    {
     "data": {
      "text/html": [
       "<div>\n",
       "<style scoped>\n",
       "    .dataframe tbody tr th:only-of-type {\n",
       "        vertical-align: middle;\n",
       "    }\n",
       "\n",
       "    .dataframe tbody tr th {\n",
       "        vertical-align: top;\n",
       "    }\n",
       "\n",
       "    .dataframe thead th {\n",
       "        text-align: right;\n",
       "    }\n",
       "</style>\n",
       "<table border=\"1\" class=\"dataframe\">\n",
       "  <thead>\n",
       "    <tr style=\"text-align: right;\">\n",
       "      <th></th>\n",
       "      <th>folder_id</th>\n",
       "      <th>model_F1</th>\n",
       "      <th>model_precision</th>\n",
       "      <th>model_recall</th>\n",
       "      <th>model_MNDD</th>\n",
       "    </tr>\n",
       "  </thead>\n",
       "  <tbody>\n",
       "    <tr>\n",
       "      <th>count</th>\n",
       "      <td>5000.000000</td>\n",
       "      <td>5000.000000</td>\n",
       "      <td>5000.000000</td>\n",
       "      <td>5000.000000</td>\n",
       "      <td>5000.000000</td>\n",
       "    </tr>\n",
       "    <tr>\n",
       "      <th>mean</th>\n",
       "      <td>2500.500000</td>\n",
       "      <td>0.558500</td>\n",
       "      <td>0.940323</td>\n",
       "      <td>0.421237</td>\n",
       "      <td>15.927800</td>\n",
       "    </tr>\n",
       "    <tr>\n",
       "      <th>std</th>\n",
       "      <td>1443.520003</td>\n",
       "      <td>0.203727</td>\n",
       "      <td>0.181339</td>\n",
       "      <td>0.197098</td>\n",
       "      <td>10.676825</td>\n",
       "    </tr>\n",
       "    <tr>\n",
       "      <th>min</th>\n",
       "      <td>1.000000</td>\n",
       "      <td>0.000000</td>\n",
       "      <td>0.000000</td>\n",
       "      <td>0.000000</td>\n",
       "      <td>0.000000</td>\n",
       "    </tr>\n",
       "    <tr>\n",
       "      <th>25%</th>\n",
       "      <td>1250.750000</td>\n",
       "      <td>0.434783</td>\n",
       "      <td>1.000000</td>\n",
       "      <td>0.285714</td>\n",
       "      <td>8.000000</td>\n",
       "    </tr>\n",
       "    <tr>\n",
       "      <th>50%</th>\n",
       "      <td>2500.500000</td>\n",
       "      <td>0.588235</td>\n",
       "      <td>1.000000</td>\n",
       "      <td>0.416667</td>\n",
       "      <td>14.000000</td>\n",
       "    </tr>\n",
       "    <tr>\n",
       "      <th>75%</th>\n",
       "      <td>3750.250000</td>\n",
       "      <td>0.705882</td>\n",
       "      <td>1.000000</td>\n",
       "      <td>0.555556</td>\n",
       "      <td>22.000000</td>\n",
       "    </tr>\n",
       "    <tr>\n",
       "      <th>max</th>\n",
       "      <td>5000.000000</td>\n",
       "      <td>1.000000</td>\n",
       "      <td>1.000000</td>\n",
       "      <td>1.000000</td>\n",
       "      <td>96.000000</td>\n",
       "    </tr>\n",
       "  </tbody>\n",
       "</table>\n",
       "</div>"
      ],
      "text/plain": [
       "         folder_id     model_F1  model_precision  model_recall   model_MNDD\n",
       "count  5000.000000  5000.000000      5000.000000   5000.000000  5000.000000\n",
       "mean   2500.500000     0.558500         0.940323      0.421237    15.927800\n",
       "std    1443.520003     0.203727         0.181339      0.197098    10.676825\n",
       "min       1.000000     0.000000         0.000000      0.000000     0.000000\n",
       "25%    1250.750000     0.434783         1.000000      0.285714     8.000000\n",
       "50%    2500.500000     0.588235         1.000000      0.416667    14.000000\n",
       "75%    3750.250000     0.705882         1.000000      0.555556    22.000000\n",
       "max    5000.000000     1.000000         1.000000      1.000000    96.000000"
      ]
     },
     "execution_count": 15,
     "metadata": {},
     "output_type": "execute_result"
    }
   ],
   "source": [
    "minus_resnet_performance.describe()"
   ]
  },
  {
   "cell_type": "code",
   "execution_count": 16,
   "id": "75bc455a",
   "metadata": {},
   "outputs": [
    {
     "data": {
      "text/html": [
       "<div>\n",
       "<style scoped>\n",
       "    .dataframe tbody tr th:only-of-type {\n",
       "        vertical-align: middle;\n",
       "    }\n",
       "\n",
       "    .dataframe tbody tr th {\n",
       "        vertical-align: top;\n",
       "    }\n",
       "\n",
       "    .dataframe thead th {\n",
       "        text-align: right;\n",
       "    }\n",
       "</style>\n",
       "<table border=\"1\" class=\"dataframe\">\n",
       "  <thead>\n",
       "    <tr style=\"text-align: right;\">\n",
       "      <th></th>\n",
       "      <th>folder_id</th>\n",
       "      <th>model_F1</th>\n",
       "      <th>model_precision</th>\n",
       "      <th>model_recall</th>\n",
       "      <th>model_MNDD</th>\n",
       "    </tr>\n",
       "  </thead>\n",
       "  <tbody>\n",
       "    <tr>\n",
       "      <th>count</th>\n",
       "      <td>5000.000000</td>\n",
       "      <td>5000.000000</td>\n",
       "      <td>5000.000000</td>\n",
       "      <td>5000.000000</td>\n",
       "      <td>5000.000000</td>\n",
       "    </tr>\n",
       "    <tr>\n",
       "      <th>mean</th>\n",
       "      <td>2500.500000</td>\n",
       "      <td>0.952908</td>\n",
       "      <td>0.947022</td>\n",
       "      <td>0.963633</td>\n",
       "      <td>3.439800</td>\n",
       "    </tr>\n",
       "    <tr>\n",
       "      <th>std</th>\n",
       "      <td>1443.520003</td>\n",
       "      <td>0.052974</td>\n",
       "      <td>0.073362</td>\n",
       "      <td>0.062202</td>\n",
       "      <td>7.015997</td>\n",
       "    </tr>\n",
       "    <tr>\n",
       "      <th>min</th>\n",
       "      <td>1.000000</td>\n",
       "      <td>0.000000</td>\n",
       "      <td>0.000000</td>\n",
       "      <td>0.000000</td>\n",
       "      <td>0.000000</td>\n",
       "    </tr>\n",
       "    <tr>\n",
       "      <th>25%</th>\n",
       "      <td>1250.750000</td>\n",
       "      <td>0.923077</td>\n",
       "      <td>0.909091</td>\n",
       "      <td>0.923077</td>\n",
       "      <td>0.000000</td>\n",
       "    </tr>\n",
       "    <tr>\n",
       "      <th>50%</th>\n",
       "      <td>2500.500000</td>\n",
       "      <td>0.960000</td>\n",
       "      <td>1.000000</td>\n",
       "      <td>1.000000</td>\n",
       "      <td>1.000000</td>\n",
       "    </tr>\n",
       "    <tr>\n",
       "      <th>75%</th>\n",
       "      <td>3750.250000</td>\n",
       "      <td>1.000000</td>\n",
       "      <td>1.000000</td>\n",
       "      <td>1.000000</td>\n",
       "      <td>3.000000</td>\n",
       "    </tr>\n",
       "    <tr>\n",
       "      <th>max</th>\n",
       "      <td>5000.000000</td>\n",
       "      <td>1.000000</td>\n",
       "      <td>1.000000</td>\n",
       "      <td>1.000000</td>\n",
       "      <td>87.000000</td>\n",
       "    </tr>\n",
       "  </tbody>\n",
       "</table>\n",
       "</div>"
      ],
      "text/plain": [
       "         folder_id     model_F1  model_precision  model_recall   model_MNDD\n",
       "count  5000.000000  5000.000000      5000.000000   5000.000000  5000.000000\n",
       "mean   2500.500000     0.952908         0.947022      0.963633     3.439800\n",
       "std    1443.520003     0.052974         0.073362      0.062202     7.015997\n",
       "min       1.000000     0.000000         0.000000      0.000000     0.000000\n",
       "25%    1250.750000     0.923077         0.909091      0.923077     0.000000\n",
       "50%    2500.500000     0.960000         1.000000      1.000000     1.000000\n",
       "75%    3750.250000     1.000000         1.000000      1.000000     3.000000\n",
       "max    5000.000000     1.000000         1.000000      1.000000    87.000000"
      ]
     },
     "execution_count": 16,
     "metadata": {},
     "output_type": "execute_result"
    }
   ],
   "source": [
    "model_performance.describe()"
   ]
  },
  {
   "cell_type": "code",
   "execution_count": 17,
   "id": "e804a8e8",
   "metadata": {},
   "outputs": [
    {
     "data": {
      "text/html": [
       "<div>\n",
       "<style scoped>\n",
       "    .dataframe tbody tr th:only-of-type {\n",
       "        vertical-align: middle;\n",
       "    }\n",
       "\n",
       "    .dataframe tbody tr th {\n",
       "        vertical-align: top;\n",
       "    }\n",
       "\n",
       "    .dataframe thead th {\n",
       "        text-align: right;\n",
       "    }\n",
       "</style>\n",
       "<table border=\"1\" class=\"dataframe\">\n",
       "  <thead>\n",
       "    <tr style=\"text-align: right;\">\n",
       "      <th></th>\n",
       "      <th>Original model</th>\n",
       "      <th>... minus LayoutLM</th>\n",
       "      <th>... minus Resnet</th>\n",
       "    </tr>\n",
       "  </thead>\n",
       "  <tbody>\n",
       "    <tr>\n",
       "      <th>0</th>\n",
       "      <td>0.923077</td>\n",
       "      <td>0.960000</td>\n",
       "      <td>0.400000</td>\n",
       "    </tr>\n",
       "    <tr>\n",
       "      <th>1</th>\n",
       "      <td>1.000000</td>\n",
       "      <td>1.000000</td>\n",
       "      <td>0.750000</td>\n",
       "    </tr>\n",
       "    <tr>\n",
       "      <th>2</th>\n",
       "      <td>1.000000</td>\n",
       "      <td>1.000000</td>\n",
       "      <td>0.428571</td>\n",
       "    </tr>\n",
       "    <tr>\n",
       "      <th>3</th>\n",
       "      <td>0.941176</td>\n",
       "      <td>0.941176</td>\n",
       "      <td>0.615385</td>\n",
       "    </tr>\n",
       "    <tr>\n",
       "      <th>4</th>\n",
       "      <td>1.000000</td>\n",
       "      <td>1.000000</td>\n",
       "      <td>0.857143</td>\n",
       "    </tr>\n",
       "    <tr>\n",
       "      <th>...</th>\n",
       "      <td>...</td>\n",
       "      <td>...</td>\n",
       "      <td>...</td>\n",
       "    </tr>\n",
       "    <tr>\n",
       "      <th>4995</th>\n",
       "      <td>0.933333</td>\n",
       "      <td>0.933333</td>\n",
       "      <td>0.235294</td>\n",
       "    </tr>\n",
       "    <tr>\n",
       "      <th>4996</th>\n",
       "      <td>1.000000</td>\n",
       "      <td>0.880000</td>\n",
       "      <td>0.533333</td>\n",
       "    </tr>\n",
       "    <tr>\n",
       "      <th>4997</th>\n",
       "      <td>0.800000</td>\n",
       "      <td>0.833333</td>\n",
       "      <td>0.666667</td>\n",
       "    </tr>\n",
       "    <tr>\n",
       "      <th>4998</th>\n",
       "      <td>1.000000</td>\n",
       "      <td>1.000000</td>\n",
       "      <td>0.750000</td>\n",
       "    </tr>\n",
       "    <tr>\n",
       "      <th>4999</th>\n",
       "      <td>0.956522</td>\n",
       "      <td>0.909091</td>\n",
       "      <td>0.777778</td>\n",
       "    </tr>\n",
       "  </tbody>\n",
       "</table>\n",
       "<p>5000 rows × 3 columns</p>\n",
       "</div>"
      ],
      "text/plain": [
       "      Original model  ... minus LayoutLM  ... minus Resnet\n",
       "0           0.923077            0.960000          0.400000\n",
       "1           1.000000            1.000000          0.750000\n",
       "2           1.000000            1.000000          0.428571\n",
       "3           0.941176            0.941176          0.615385\n",
       "4           1.000000            1.000000          0.857143\n",
       "...              ...                 ...               ...\n",
       "4995        0.933333            0.933333          0.235294\n",
       "4996        1.000000            0.880000          0.533333\n",
       "4997        0.800000            0.833333          0.666667\n",
       "4998        1.000000            1.000000          0.750000\n",
       "4999        0.956522            0.909091          0.777778\n",
       "\n",
       "[5000 rows x 3 columns]"
      ]
     },
     "execution_count": 17,
     "metadata": {},
     "output_type": "execute_result"
    }
   ],
   "source": [
    "f1 = pd.DataFrame({\"Original model\": model_performance.model_F1, \"... minus LayoutLM\": minus_layoutlm_performance.model_F1, \"... minus Resnet\": minus_resnet_performance.model_F1})\n",
    "f1"
   ]
  },
  {
   "cell_type": "code",
   "execution_count": 18,
   "id": "4bfe3a14",
   "metadata": {},
   "outputs": [
    {
     "data": {
      "text/html": [
       "<div>\n",
       "<style scoped>\n",
       "    .dataframe tbody tr th:only-of-type {\n",
       "        vertical-align: middle;\n",
       "    }\n",
       "\n",
       "    .dataframe tbody tr th {\n",
       "        vertical-align: top;\n",
       "    }\n",
       "\n",
       "    .dataframe thead th {\n",
       "        text-align: right;\n",
       "    }\n",
       "</style>\n",
       "<table border=\"1\" class=\"dataframe\">\n",
       "  <thead>\n",
       "    <tr style=\"text-align: right;\">\n",
       "      <th></th>\n",
       "      <th>Original model</th>\n",
       "      <th>... minus LayoutLM</th>\n",
       "      <th>... minus Resnet</th>\n",
       "    </tr>\n",
       "  </thead>\n",
       "  <tbody>\n",
       "    <tr>\n",
       "      <th>0</th>\n",
       "      <td>2.0</td>\n",
       "      <td>2.0</td>\n",
       "      <td>10.0</td>\n",
       "    </tr>\n",
       "    <tr>\n",
       "      <th>1</th>\n",
       "      <td>0.0</td>\n",
       "      <td>0.0</td>\n",
       "      <td>5.0</td>\n",
       "    </tr>\n",
       "    <tr>\n",
       "      <th>2</th>\n",
       "      <td>0.0</td>\n",
       "      <td>0.0</td>\n",
       "      <td>9.0</td>\n",
       "    </tr>\n",
       "    <tr>\n",
       "      <th>3</th>\n",
       "      <td>1.0</td>\n",
       "      <td>1.0</td>\n",
       "      <td>6.0</td>\n",
       "    </tr>\n",
       "    <tr>\n",
       "      <th>4</th>\n",
       "      <td>0.0</td>\n",
       "      <td>0.0</td>\n",
       "      <td>5.0</td>\n",
       "    </tr>\n",
       "    <tr>\n",
       "      <th>...</th>\n",
       "      <td>...</td>\n",
       "      <td>...</td>\n",
       "      <td>...</td>\n",
       "    </tr>\n",
       "    <tr>\n",
       "      <th>4995</th>\n",
       "      <td>2.0</td>\n",
       "      <td>4.0</td>\n",
       "      <td>24.0</td>\n",
       "    </tr>\n",
       "    <tr>\n",
       "      <th>4996</th>\n",
       "      <td>0.0</td>\n",
       "      <td>4.0</td>\n",
       "      <td>12.0</td>\n",
       "    </tr>\n",
       "    <tr>\n",
       "      <th>4997</th>\n",
       "      <td>5.0</td>\n",
       "      <td>5.0</td>\n",
       "      <td>16.0</td>\n",
       "    </tr>\n",
       "    <tr>\n",
       "      <th>4998</th>\n",
       "      <td>0.0</td>\n",
       "      <td>0.0</td>\n",
       "      <td>2.0</td>\n",
       "    </tr>\n",
       "    <tr>\n",
       "      <th>4999</th>\n",
       "      <td>1.0</td>\n",
       "      <td>6.0</td>\n",
       "      <td>9.0</td>\n",
       "    </tr>\n",
       "  </tbody>\n",
       "</table>\n",
       "<p>5000 rows × 3 columns</p>\n",
       "</div>"
      ],
      "text/plain": [
       "      Original model  ... minus LayoutLM  ... minus Resnet\n",
       "0                2.0                 2.0              10.0\n",
       "1                0.0                 0.0               5.0\n",
       "2                0.0                 0.0               9.0\n",
       "3                1.0                 1.0               6.0\n",
       "4                0.0                 0.0               5.0\n",
       "...              ...                 ...               ...\n",
       "4995             2.0                 4.0              24.0\n",
       "4996             0.0                 4.0              12.0\n",
       "4997             5.0                 5.0              16.0\n",
       "4998             0.0                 0.0               2.0\n",
       "4999             1.0                 6.0               9.0\n",
       "\n",
       "[5000 rows x 3 columns]"
      ]
     },
     "execution_count": 18,
     "metadata": {},
     "output_type": "execute_result"
    }
   ],
   "source": [
    "mndd = pd.DataFrame({\"Original model\": model_performance.model_MNDD, \"... minus LayoutLM\": minus_layoutlm_performance.model_MNDD, \"... minus Resnet\": minus_resnet_performance.model_MNDD})\n",
    "mndd"
   ]
  },
  {
   "cell_type": "code",
   "execution_count": 19,
   "id": "48310539",
   "metadata": {},
   "outputs": [
    {
     "data": {
      "image/png": "[encoded data removed]",
      "text/plain": [
       "<Figure size 216x252 with 1 Axes>"
      ]
     },
     "metadata": {
      "needs_background": "light"
     },
     "output_type": "display_data"
    }
   ],
   "source": [
    "fig, ax = plt.subplots(1,1, figsize=(3,3.5))\n",
    "sns.set_style(\"whitegrid\")\n",
    "sns.set_style({'font.family':'serif', 'font.serif':'Times New Roman'})\n",
    "flierprops = dict(marker='o', linestyle='none', markeredgecolor='black', markersize = .7)\n",
    "ax = sns.boxplot(x=\"variable\", y=\"value\", data=pd.melt(f1),color = \"white\", flierprops=flierprops, width = .6, linewidth = .9)\n",
    "ax.set(xlabel = None, ylabel = \"Average F1 for folders\")\n",
    "ax.set_xticklabels([\"Original\\nmodel\", \"...minus\\nLayoutLM\", \"...minus\\nResnet\"])\n",
    "ax.grid(True)\n",
    "plt.savefig(\"figs/F1_boxplot.pdf\", format=\"pdf\", bbox_inches='tight', pad_inches=0)\n",
    "for i,box in enumerate(ax.artists):\n",
    "    box.set_edgecolor('black')\n",
    "    box.set_facecolor('white')\n",
    "    for j in range(6*i,6*(i+1)):\n",
    "         ax.lines[j].set_color('black')\n",
    "plt.savefig(\"figs/F1_boxplot.pdf\", format=\"pdf\", bbox_inches='tight', pad_inches=0)\n",
    "plt.show()"
   ]
  },
  {
   "cell_type": "code",
   "execution_count": 20,
   "id": "7f1e3840",
   "metadata": {
    "scrolled": true
   },
   "outputs": [
    {
     "data": {
      "image/png": "[encoded data removed]",
      "text/plain": [
       "<Figure size 216x252 with 1 Axes>"
      ]
     },
     "metadata": {},
     "output_type": "display_data"
    }
   ],
   "source": [
    "fig, ax = plt.subplots(1,1, figsize=(3,3.5))\n",
    "sns.set_style(\"whitegrid\")\n",
    "sns.set_style({'font.family':'serif', 'font.serif':'Times New Roman'})\n",
    "flierprops = dict(marker='o', linestyle='none', markeredgecolor='black', markersize = .7)\n",
    "ax = sns.boxplot(x=\"variable\", y=\"value\", data=pd.melt(mndd),color = \"white\", flierprops=flierprops, width = .6, linewidth = .9)\n",
    "ax.set(xlabel = None, ylabel = \"Average MNDD for folders\")\n",
    "ax.set_xticklabels([\"Original\\nmodel\", \"...minus\\nLayoutLM\", \"...minus\\nResnet\"])\n",
    "ax.grid(True)\n",
    "for i,box in enumerate(ax.artists):\n",
    "    box.set_edgecolor('black')\n",
    "    box.set_facecolor('white')\n",
    "    for j in range(6*i,6*(i+1)):\n",
    "         ax.lines[j].set_color('black')\n",
    "plt.savefig(\"figs/MNDD_boxplot.pdf\", format=\"pdf\", bbox_inches='tight', pad_inches=0)\n",
    "plt.show()"
   ]
  },
  {
   "cell_type": "markdown",
   "id": "a0d20703",
   "metadata": {},
   "source": [
    "# Statistical analysis: paired t-test for ablation studies"
   ]
  },
  {
   "cell_type": "code",
   "execution_count": 21,
   "id": "f852d11d",
   "metadata": {},
   "outputs": [
    {
     "data": {
      "text/plain": [
       "Ttest_relResult(statistic=136.86370120670432, pvalue=0.0)"
      ]
     },
     "execution_count": 21,
     "metadata": {},
     "output_type": "execute_result"
    }
   ],
   "source": [
    "stats.ttest_rel(model_performance['model_F1'], minus_resnet_performance['model_F1'])"
   ]
  },
  {
   "cell_type": "code",
   "execution_count": 22,
   "id": "02d4c99e",
   "metadata": {},
   "outputs": [
    {
     "data": {
      "text/plain": [
       "Ttest_relResult(statistic=13.369034397987033, pvalue=4.444209963470507e-40)"
      ]
     },
     "execution_count": 22,
     "metadata": {},
     "output_type": "execute_result"
    }
   ],
   "source": [
    "stats.ttest_rel(model_performance['model_F1'], minus_layoutlm_performance['model_F1'])"
   ]
  },
  {
   "cell_type": "code",
   "execution_count": 23,
   "id": "0816e68a",
   "metadata": {},
   "outputs": [
    {
     "data": {
      "text/plain": [
       "Ttest_relResult(statistic=-84.21098121698773, pvalue=0.0)"
      ]
     },
     "execution_count": 23,
     "metadata": {},
     "output_type": "execute_result"
    }
   ],
   "source": [
    "stats.ttest_rel(model_performance['model_MNDD'], minus_resnet_performance['model_MNDD'])"
   ]
  },
  {
   "cell_type": "code",
   "execution_count": 24,
   "id": "dc72f6f7",
   "metadata": {},
   "outputs": [
    {
     "data": {
      "text/plain": [
       "Ttest_relResult(statistic=-4.439535872194734, pvalue=9.209470961296132e-06)"
      ]
     },
     "execution_count": 24,
     "metadata": {},
     "output_type": "execute_result"
    }
   ],
   "source": [
    "stats.ttest_rel(model_performance['model_MNDD'], minus_layoutlm_performance['model_MNDD'])"
   ]
  },
  {
   "cell_type": "code",
   "execution_count": null,
   "id": "5e365a37",
   "metadata": {},
   "outputs": [],
   "source": []
  },
  {
   "cell_type": "code",
   "execution_count": null,
   "id": "ee851fea",
   "metadata": {},
   "outputs": [],
   "source": []
  }
 ],
 "metadata": {
  "kernelspec": {
   "display_name": "Python 3 (ipykernel)",
   "language": "python",
   "name": "python3"
  },
  "language_info": {
   "codemirror_mode": {
    "name": "ipython",
    "version": 3
   },
   "file_extension": ".py",
   "mimetype": "text/x-python",
   "name": "python",
   "nbconvert_exporter": "python",
   "pygments_lexer": "ipython3",
   "version": "3.9.7"
  },
  "vscode": {
   "interpreter": {
    "hash": "d692764c576dd2380f378f80cd401f2e4e6eb910fd38f99bb6abb693edbbb23f"
   }
  }
 },
 "nbformat": 4,
 "nbformat_minor": 5
}
